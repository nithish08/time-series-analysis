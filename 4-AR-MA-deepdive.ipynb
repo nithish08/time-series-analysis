{
 "cells": [
  {
   "cell_type": "markdown",
   "metadata": {},
   "source": [
    "AR(p) is always invertible.\n",
    "\n",
    "MA(q) is always stationary.\n",
    "\n",
    "AR(p) = MA(inf) if stationary condition hols\n",
    "MA(q) = AR(inf) if invertibility condition holds\n",
    "\n",
    "We are interested in stationary and invertibility b/c we can find the parameters if both of these conditions are met.\n",
    "\n",
    "## AR(p) Stationary condition\n",
    "\n",
    "AR(p) model is stationary if roots of generating function $\\phi(z)$ lie outside the unit circle\n",
    "\n",
    "## MA(q) Invertibility condition    \n",
    "\n",
    "MA(q) model is invertible if roots of generating function $\\theta(z)$ lie outside the unit circle\n",
    "\n",
    "## ARMA(p,q) process\n",
    "\n",
    "Q1. why do we need ARMA process to be stationary and invertible.\n",
    "\n",
    "`stationary` and `invertible` guarantees unique solution to the model which we can find.\n",
    "\n",
    "\n",
    "\n",
    "ARMA(p,q) process:\n",
    "1. Choose appropriate p,q\n",
    "2. Estimate the parameters $\\phi_{1} \\phi_{2}, .... \\theta_{1}, \\theta_{2}, $\n",
    "3. Forecast predict $X_{t}$ as a function $X_{t-1}$, $X_{t-2}$ based on the parameter estimates from step-2"
   ]
  },
  {
   "cell_type": "markdown",
   "metadata": {},
   "source": [
    "# Estimating Parameters\n",
    "\n",
    "How to estimate the parameters?\n",
    "MLE can be used. But solving inverse of matrix of autocorrelation is `problematic`. \n",
    "\n",
    "Solution for this problem is `innovation algorithm`.\n",
    "\n",
    "The `core` idea of innovation is trying to have a matrix that predicts one step ahead.\n",
    "Use the innovation algorithm to calculate the inverse of matrix of autocorrelation and then optimize the MLE.\n",
    "\n",
    "**Verification of model**\n",
    "\n",
    "1. Check the residuals\n",
    "2. order - smaller, simpler models are beter\n",
    "    MLE should be high.\n",
    "    \n",
    "    \n",
    "**AIC, BIC, AICC**\n",
    "All of these metrics penalize the models with high parameters. Also consider number of samples `n` on which the model is built on.\n",
    "\n"
   ]
  }
 ],
 "metadata": {
  "kernelspec": {
   "display_name": "Python 3",
   "language": "python",
   "name": "python3"
  },
  "language_info": {
   "codemirror_mode": {
    "name": "ipython",
    "version": 3
   },
   "file_extension": ".py",
   "mimetype": "text/x-python",
   "name": "python",
   "nbconvert_exporter": "python",
   "pygments_lexer": "ipython3",
   "version": "3.7.6"
  }
 },
 "nbformat": 4,
 "nbformat_minor": 4
}
