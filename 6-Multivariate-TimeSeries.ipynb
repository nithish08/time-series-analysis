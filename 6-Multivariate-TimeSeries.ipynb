{
 "cells": [
  {
   "cell_type": "markdown",
   "metadata": {},
   "source": [
    "**Multivariate time series**"
   ]
  },
  {
   "cell_type": "markdown",
   "metadata": {},
   "source": [
    "Modeling appraoches:\n",
    "\n",
    "1. SARIMAX\n",
    "1. VAR  (Vector Auto-Regression)\n",
    "\n",
    "\n",
    "**1.SARIMAX**\n",
    "\n",
    "SARIMAX can be thought of as ARMAX with explanatory variables.\n",
    "\n",
    "\n",
    "**2.VAR**\n",
    "\n",
    "> All the variables are treated symmetrically.\n",
    "> "
   ]
  }
 ],
 "metadata": {
  "kernelspec": {
   "display_name": "Python 3",
   "language": "python",
   "name": "python3"
  },
  "language_info": {
   "codemirror_mode": {
    "name": "ipython",
    "version": 3
   },
   "file_extension": ".py",
   "mimetype": "text/x-python",
   "name": "python",
   "nbconvert_exporter": "python",
   "pygments_lexer": "ipython3",
   "version": "3.7.6"
  }
 },
 "nbformat": 4,
 "nbformat_minor": 4
}
