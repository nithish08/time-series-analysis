{
 "cells": [
  {
   "cell_type": "markdown",
   "metadata": {},
   "source": [
    "**ARIMA** and **SARIMA** are **non-stationary** models.\n",
    "\n",
    "**ARIMA - Auto-Regressive-Integrated-Moving-Average**\n",
    "\n",
    "`Integrated` -> eliminate trend.\n",
    "\n",
    "<img src=\"./images/Arima-integrated.png\" width=\"500\" height=\"500\" />"
   ]
  },
  {
   "cell_type": "markdown",
   "metadata": {},
   "source": [
    ">\n",
    "> \n",
    "ARIMA(p,d,q) model models a non-stationary time series which becomes stationary after differencing \n",
    "`d` times.\n",
    "<img src=\"./images/ARIMA-ARMA.png\" width=\"500\" height=\"500\" />"
   ]
  },
  {
   "cell_type": "markdown",
   "metadata": {},
   "source": [
    "**SARIMA Seasonal ARIMA**"
   ]
  },
  {
   "cell_type": "markdown",
   "metadata": {},
   "source": [
    "SARIMA eliminates both seasonality and trend."
   ]
  },
  {
   "cell_type": "markdown",
   "metadata": {},
   "source": [
    "**Exponential Smoothing Techniques**\n",
    "\n",
    "1. Single Exponential Smoothing (SES) - stationary\n",
    "1. Double Exponential Smoothing (DES) - with trend\n",
    "1. Triple Exponential Smoothing (TES) - with trend and seasonality"
   ]
  },
  {
   "cell_type": "markdown",
   "metadata": {},
   "source": [
    "ARIMA model is more general then Exponential smoothing techniques. \n",
    "\n",
    "ES -> MA model."
   ]
  }
 ],
 "metadata": {
  "kernelspec": {
   "display_name": "Python 3",
   "language": "python",
   "name": "python3"
  },
  "language_info": {
   "codemirror_mode": {
    "name": "ipython",
    "version": 3
   },
   "file_extension": ".py",
   "mimetype": "text/x-python",
   "name": "python",
   "nbconvert_exporter": "python",
   "pygments_lexer": "ipython3",
   "version": "3.7.6"
  }
 },
 "nbformat": 4,
 "nbformat_minor": 4
}
